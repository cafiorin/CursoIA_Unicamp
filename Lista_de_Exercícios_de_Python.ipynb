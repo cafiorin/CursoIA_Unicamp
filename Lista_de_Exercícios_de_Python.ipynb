{
  "nbformat": 4,
  "nbformat_minor": 0,
  "metadata": {
    "colab": {
      "provenance": [],
      "include_colab_link": true
    },
    "kernelspec": {
      "name": "python3",
      "display_name": "Python 3"
    },
    "language_info": {
      "name": "python"
    }
  },
  "cells": [
    {
      "cell_type": "markdown",
      "metadata": {
        "id": "view-in-github",
        "colab_type": "text"
      },
      "source": [
        "<a href=\"https://colab.research.google.com/github/cafiorin/CursoIA_Unicamp/blob/main/Lista_de_Exerc%C3%ADcios_de_Python.ipynb\" target=\"_parent\"><img src=\"https://colab.research.google.com/assets/colab-badge.svg\" alt=\"Open In Colab\"/></a>"
      ]
    },
    {
      "cell_type": "markdown",
      "metadata": {
        "id": "MmqHxquUPFFa"
      },
      "source": [
        "# **Exercícios de Python**"
      ]
    },
    {
      "cell_type": "markdown",
      "metadata": {
        "id": "J0AlTVgePQEO"
      },
      "source": [
        "Esta é uma lista de exercícios sobre Listas e Dicionários em Python, a qual  visa ajudar-los a aprender e praticar operações de lista e dicionários para melhorar seu conhecimento Python. Todas as perguntas são testadas em Python 3.\n",
        "\n",
        "Os seguintes tópicos sobre listas são apresentados:\n",
        "\n",
        "* Operações e manipulações da lista Python\n",
        "* Funções de lista Python\n",
        "* Slicing da lista Python\n",
        "* Compreensão da lista Python\n",
        "* Operações e manipulações de dicionário Python\n",
        "* Funções de dicionário Python\n",
        "* Compreensão do dicionário Python\n",
        "\n",
        "Caso tenha algum dúvida, entrar em contato: souza.m.allan@gmail.com"
      ]
    },
    {
      "cell_type": "markdown",
      "metadata": {
        "id": "D-c4wcwVPxaY"
      },
      "source": [
        "# **Listas**"
      ]
    },
    {
      "cell_type": "markdown",
      "metadata": {
        "id": "ap75fua9P-K0"
      },
      "source": [
        "## **Inverta a sequência de um lista**\n"
      ]
    },
    {
      "cell_type": "code",
      "metadata": {
        "id": "pF3QHCuaO-nQ"
      },
      "source": [
        "lista_00 = [100, 200, 300, 400, 500]\n",
        "\n",
        "#########################################\n",
        "#         Escreva o código aqui\n",
        "#########################################"
      ],
      "execution_count": null,
      "outputs": []
    },
    {
      "cell_type": "markdown",
      "metadata": {
        "id": "HRhB9d_0QCls"
      },
      "source": [
        "##### Resultado esperado:\n",
        "<pre>\n",
        "[500, 400, 300, 200, 100]\n",
        "</pre>"
      ]
    },
    {
      "cell_type": "markdown",
      "metadata": {
        "id": "IORy8pI-QFPa"
      },
      "source": [
        "## **Concatene duas listas pelos índices**\n"
      ]
    },
    {
      "cell_type": "code",
      "metadata": {
        "id": "ScmL2qEPQD0F"
      },
      "source": [
        "lista_01 = ['E', 'm', 'cha', 'Jo']\n",
        "lista_02 = ['u', 'e', 'mo', 'ão']\n",
        "\n",
        "#########################################\n",
        "#         Escreva o código aqui\n",
        "#########################################"
      ],
      "execution_count": null,
      "outputs": []
    },
    {
      "cell_type": "markdown",
      "metadata": {
        "id": "uIzANZUxQNsk"
      },
      "source": [
        "##### Resultado esperado:\n",
        "<pre>\n",
        "['Eu', 'me', 'chamo', 'João']\n",
        "</pre>"
      ]
    },
    {
      "cell_type": "markdown",
      "metadata": {
        "id": "98pNbSRyQQcV"
      },
      "source": [
        "## **Dada uma lista de números. Transforme cada item da lista em seu quadrado**\n"
      ]
    },
    {
      "cell_type": "code",
      "metadata": {
        "id": "es7LCexUQOJE"
      },
      "source": [
        "lista_03 = [1, 2, 3, 4, 5, 6, 7, 8, 9, 10]\n",
        "\n",
        "#########################################\n",
        "#         Escreva o código aqui\n",
        "#########################################"
      ],
      "execution_count": null,
      "outputs": []
    },
    {
      "cell_type": "markdown",
      "metadata": {
        "id": "_2vTPWBlQU2T"
      },
      "source": [
        "##### Resultado esperado:\n",
        "<pre>\n",
        "[1, 4, 9, 16, 25, 36, 49, 64, 81, 100]\n",
        "</pre>"
      ]
    },
    {
      "cell_type": "markdown",
      "metadata": {
        "id": "x3AJl9uMQWwN"
      },
      "source": [
        "## **Dada duas listas. Iteresobre elas simultaneamente, de modo que a lista_04 exiba os itens na ordem original e a lista_05 na ordem inversa**"
      ]
    },
    {
      "cell_type": "code",
      "metadata": {
        "id": "ZEm-FYcvQVD7"
      },
      "source": [
        "lista_04 = [10, 20, 30, 40, 50]\n",
        "lista_05 = [100, 200, 300, 400, 500]\n",
        "\n",
        "#########################################\n",
        "#         Escreva o código aqui\n",
        "#########################################"
      ],
      "execution_count": null,
      "outputs": []
    },
    {
      "cell_type": "markdown",
      "metadata": {
        "id": "2GAOsR4QQaqa"
      },
      "source": [
        "##### Resultado esperado:\n",
        "<pre>\n",
        "10 500\n",
        "20 400\n",
        "30 300\n",
        "40 200\n",
        "50 100\n",
        "</pre>"
      ]
    },
    {
      "cell_type": "markdown",
      "metadata": {
        "id": "MPqnRyg0Qe1z"
      },
      "source": [
        "## **Remova a string vazia da listas de strings**"
      ]
    },
    {
      "cell_type": "code",
      "metadata": {
        "id": "zvuZCJ-wQa_Q"
      },
      "source": [
        "lista_06 = ['José', 'Maria', 'Paulo', '', 'Pedro', '', 'Ana']\n",
        "\n",
        "#########################################\n",
        "#         Escreva o código aqui\n",
        "#########################################"
      ],
      "execution_count": null,
      "outputs": []
    },
    {
      "cell_type": "markdown",
      "metadata": {
        "id": "tUoFX2gDQix6"
      },
      "source": [
        "##### Resultado esperado:\n",
        "<pre>\n",
        "['José', 'Maria', 'Paulo', 'Pedro', 'Ana']\n",
        "</pre>"
      ]
    },
    {
      "cell_type": "markdown",
      "metadata": {
        "id": "Sg9jYlQrQlZd"
      },
      "source": [
        "## **Adicione o número 7000 após o número 6000 na seguinte lista**"
      ]
    },
    {
      "cell_type": "code",
      "metadata": {
        "id": "gBFo9rDLQi_-"
      },
      "source": [
        "list_07 = [10, 20, [300, 400, [5000, 6000], 500], 30, 40]\n",
        "\n",
        "#########################################\n",
        "#         Escreva o código aqui\n",
        "#########################################"
      ],
      "execution_count": null,
      "outputs": []
    },
    {
      "cell_type": "code",
      "source": [
        "list_07[2][2].insert(2, 7000)\n",
        "list_07"
      ],
      "metadata": {
        "colab": {
          "base_uri": "https://localhost:8080/"
        },
        "id": "hI9c4dwk-NUX",
        "outputId": "55f2a94c-a1ed-4e88-c52f-21437cf6bf9a"
      },
      "execution_count": null,
      "outputs": [
        {
          "output_type": "execute_result",
          "data": {
            "text/plain": [
              "[10, 20, [300, 400, [5000, 6000, 7000], 500], 30, 40]"
            ]
          },
          "metadata": {},
          "execution_count": 18
        }
      ]
    },
    {
      "cell_type": "markdown",
      "metadata": {
        "id": "yjiVgiXTQpzp"
      },
      "source": [
        "##### Resultado esperado:\n",
        "<pre>\n",
        "[10, 20, [300, 400, [5000, 6000, 7000], 500], 30, 40]\n",
        "</pre>"
      ]
    },
    {
      "cell_type": "markdown",
      "metadata": {
        "id": "tdyd9izBQrl8"
      },
      "source": [
        "## **Dada uma lista aninhada, adicione a sub-lista [\"h\", \"i\", \"j\"] na posição correta**"
      ]
    },
    {
      "cell_type": "code",
      "metadata": {
        "id": "zUSxD4ERQqBE"
      },
      "source": [
        "lista_08  = ['a', 'b', ['c', ['d', 'e', ['f', 'g'], 'k'], 'l'], 'm', 'n']\n",
        "sub_lista = ['h', 'i', 'j']\n",
        "\n",
        "#########################################\n",
        "#         Escreva o código aqui\n",
        "#########################################"
      ],
      "execution_count": null,
      "outputs": []
    },
    {
      "cell_type": "markdown",
      "metadata": {
        "id": "VemENfICQvxa"
      },
      "source": [
        "##### Resultado esperado:\n",
        "<pre>\n",
        "['a', 'b', ['c', ['d', 'e', ['f', 'g', 'h', 'i', 'j'], 'k'], 'l'], 'm', 'n']\n",
        "</pre>"
      ]
    },
    {
      "cell_type": "markdown",
      "metadata": {
        "id": "OtByrNJHQyH-"
      },
      "source": [
        "## **Dada uma lista, encontre o valor 20 e, se estiver presente, substitua-o por 200. Atualize apenas a primeira ocorrência do valor**"
      ]
    },
    {
      "cell_type": "code",
      "metadata": {
        "id": "okBnK54fQv-W"
      },
      "source": [
        "lista_09 = [5, 10, 15, 20, 25, 50, 20]\n",
        "\n",
        "#########################################\n",
        "#         Escreva o código aqui\n",
        "#########################################"
      ],
      "execution_count": null,
      "outputs": []
    },
    {
      "cell_type": "markdown",
      "metadata": {
        "id": "CuvJjnFIQ2gl"
      },
      "source": [
        "##### Resultado esperado:\n",
        "<pre>\n",
        "[5, 10, 15, 200, 25, 50, 20]\n",
        "</pre>"
      ]
    },
    {
      "cell_type": "markdown",
      "metadata": {
        "id": "oPQwr0i4Q3pl"
      },
      "source": [
        "# **Dicionários**"
      ]
    },
    {
      "cell_type": "markdown",
      "metadata": {
        "id": "QFJN02wkRCxi"
      },
      "source": [
        "## **Converta as seguintes listas para dicionários**"
      ]
    },
    {
      "cell_type": "code",
      "metadata": {
        "id": "49oumfKYQ5pl"
      },
      "source": [
        "chaves  = ['Dez', 'Vinte', 'Trinta']\n",
        "valores = [10, 20, 30]\n",
        "\n",
        "#########################################\n",
        "#         Escreva o código aqui\n",
        "#########################################"
      ],
      "execution_count": null,
      "outputs": []
    },
    {
      "cell_type": "markdown",
      "metadata": {
        "id": "_C5OzD3ZRIbJ"
      },
      "source": [
        "##### Resultado esperado:\n",
        "<pre>\n",
        "{'Dez': 10, 'Vinte': 20, 'Trinta': 30}\n",
        "</pre>"
      ]
    },
    {
      "cell_type": "markdown",
      "metadata": {
        "id": "VYb7iKCSRKZK"
      },
      "source": [
        "## **Junte os seguintes dois dicionários Python em um só**"
      ]
    },
    {
      "cell_type": "code",
      "metadata": {
        "id": "ht2aP-D7RIpA"
      },
      "source": [
        "dicionario_01 = {'Dez' : 10, 'Vinte' : 20, 'Trinta' : 30}\n",
        "dicionario_02 = {'Trinta' : 30 , 'Quarenta' : 40, 'Cinquenta' : 50}\n",
        "\n",
        "#########################################\n",
        "#         Escreva o código aqui\n",
        "#########################################"
      ],
      "execution_count": null,
      "outputs": []
    },
    {
      "cell_type": "markdown",
      "metadata": {
        "id": "Hsb51tHmRQIN"
      },
      "source": [
        "##### Resultado esperado:\n",
        "<pre>\n",
        "{'Dez': 10, 'Vinte': 20, 'Trinta': 30, 'Quarena': 40, 'Cinquenta': 50}\n",
        "</pre>"
      ]
    },
    {
      "cell_type": "markdown",
      "metadata": {
        "id": "76ERq8X6RSS9"
      },
      "source": [
        "## **Acesse o valor da chave \"história\" do dicionário abaixo**"
      ]
    },
    {
      "cell_type": "code",
      "metadata": {
        "id": "Qb3y0FWOROXw"
      },
      "source": [
        "dicionario_03 = {\n",
        "   \"Turma\":{\n",
        "      \"Aluno\":{\n",
        "         \"Nome\": \"João\",\n",
        "         \"Notas\": {\n",
        "            \"Física\"  : 70,\n",
        "            \"História\" : 80\n",
        "         }\n",
        "      }\n",
        "   }\n",
        "}\n",
        "\n",
        "#########################################\n",
        "#         Escreva o código aqui\n",
        "#########################################"
      ],
      "execution_count": null,
      "outputs": []
    },
    {
      "cell_type": "markdown",
      "metadata": {
        "id": "3KlHMIu6RXRk"
      },
      "source": [
        "##### Resultado esperado:\n",
        "<pre>\n",
        "80\n",
        "</pre>"
      ]
    },
    {
      "cell_type": "markdown",
      "metadata": {
        "id": "N__JqNZhRZXc"
      },
      "source": [
        "## **Inicializar dicionário com valores padrão**"
      ]
    },
    {
      "cell_type": "code",
      "metadata": {
        "id": "F2keIH99RXgF"
      },
      "source": [
        "empregados     = ['Ana', 'Maria', 'João']\n",
        "valores_padrao = {'Cargo' : 'Desenvolvedor', 'Salário' : 8_000}\n",
        "\n",
        "#########################################\n",
        "#         Escreva o código aqui\n",
        "#########################################"
      ],
      "execution_count": null,
      "outputs": []
    },
    {
      "cell_type": "markdown",
      "metadata": {
        "id": "8Rjq_JLlRdDR"
      },
      "source": [
        "##### Resultado esperado:\n",
        "<pre>\n",
        "{ 'Ana': {'Cargo' : 'Desenvolvedor', 'Salário' : 8_000},\n",
        "  'Maria': {'Cargo' : 'Desenvolvedor', 'Salário' : 8_000},\n",
        "  'João': {'Cargo' : 'Desenvolvedor', 'Salário' : 8_000}\n",
        "}\n",
        "</pre>\n"
      ]
    },
    {
      "cell_type": "markdown",
      "metadata": {
        "id": "hEjjjpsgRfye"
      },
      "source": [
        "## **Crie um novo dicionário extraindo as seguintes chaves de um dicionário abaixo**"
      ]
    },
    {
      "cell_type": "code",
      "metadata": {
        "id": "vZ8lRo0fRdUx"
      },
      "source": [
        "dicionario_04 = {\n",
        "  \"Nome\"   : \"Maria\",\n",
        "  \"Idade\"  : 25,\n",
        "  \"Salário\": 8_000,\n",
        "  \"Cidade\" : \"São Paulo\"\n",
        "\n",
        "}\n",
        "\n",
        "chaves_para_extrair = ['Nome', 'Salário']\n",
        "\n",
        "#########################################\n",
        "#         Escreva o código aqui\n",
        "#########################################"
      ],
      "execution_count": null,
      "outputs": []
    },
    {
      "cell_type": "markdown",
      "metadata": {
        "id": "P0Sm1MKlRjwh"
      },
      "source": [
        "##### Resultado esperado:\n",
        "<pre>\n",
        "{'Nome': 'Maria', 'Salário': 8000}\n",
        "</pre>\n"
      ]
    },
    {
      "cell_type": "markdown",
      "metadata": {
        "id": "p1av1f_WRlco"
      },
      "source": [
        "## **Exclua um conjunto de chaves de um dicionário**"
      ]
    },
    {
      "cell_type": "code",
      "metadata": {
        "id": "t20AKOj6RkCj"
      },
      "source": [
        "dicionario_05 = {\n",
        "  \"Nome\"   : \"Maria\",\n",
        "  \"Idade\"  : 25,\n",
        "  \"Salário\": 8_000,\n",
        "  \"Cidade\" : \"São Paulo\"\n",
        "\n",
        "}\n",
        "\n",
        "chaves_para_excluir = ['Nome', 'Salário']\n",
        "\n",
        "#########################################\n",
        "#         Escreva o código aqui\n",
        "#########################################"
      ],
      "execution_count": null,
      "outputs": []
    },
    {
      "cell_type": "markdown",
      "metadata": {
        "id": "lViwgAoBRp9f"
      },
      "source": [
        "##### Resultado esperado:\n",
        "<pre>\n",
        "{'Cidade': 'São Paulo', 'Idade': 25}\n",
        "</pre>\n"
      ]
    },
    {
      "cell_type": "markdown",
      "metadata": {
        "id": "nuPNVkaERrub"
      },
      "source": [
        "## **Verifique se o valor 200 existe no dicionário**"
      ]
    },
    {
      "cell_type": "code",
      "metadata": {
        "id": "2Ax9g4UgRqQJ"
      },
      "source": [
        "dicionario_06 = {'a' : 100, 'b' : 200, 'c' : 300}\n",
        "\n",
        "#########################################\n",
        "#         Escreva o código aqui\n",
        "#########################################"
      ],
      "execution_count": null,
      "outputs": []
    },
    {
      "cell_type": "markdown",
      "metadata": {
        "id": "E-rYiFIkRvzm"
      },
      "source": [
        "##### Resultado esperado:\n",
        "<pre>\n",
        "True\n",
        "</pre>\n"
      ]
    },
    {
      "cell_type": "markdown",
      "metadata": {
        "id": "Kkr5OnAkRxyY"
      },
      "source": [
        "## **Renomeie a chave Cidade para localização no seguinte dicionário**"
      ]
    },
    {
      "cell_type": "code",
      "metadata": {
        "id": "VLE-5xE2Rv-l"
      },
      "source": [
        "dicionario_07 = {\n",
        "  \"Nome\"   : \"Maria\",\n",
        "  \"Idade\"  : 25,\n",
        "  \"Salário\": 8_000,\n",
        "  \"Cidade\" : \"São Paulo\"\n",
        "\n",
        "}\n",
        "\n",
        "#########################################\n",
        "#         Escreva o código aqui\n",
        "#########################################"
      ],
      "execution_count": null,
      "outputs": []
    },
    {
      "cell_type": "markdown",
      "metadata": {
        "id": "fqwDlzq3R15R"
      },
      "source": [
        "##### Resultado esperado:\n",
        "<pre>\n",
        "{\n",
        "  \"Nome\": \"Maria\",\n",
        "  \"Idade\":25,\n",
        "  \"Salário\": 8000,\n",
        "  \"Localização\": \"São Paulo\"\n",
        "}\n",
        "</pre>"
      ]
    },
    {
      "cell_type": "markdown",
      "metadata": {
        "id": "Iy2wPk8LR4JS"
      },
      "source": [
        "## **Obtenha a chave de um valor mínimo do seguinte dicionário**"
      ]
    },
    {
      "cell_type": "code",
      "metadata": {
        "id": "10t3helER2GZ"
      },
      "source": [
        "dicionario_08 = {\n",
        "  'Física'    : 82,\n",
        "  'Matemática': 65,\n",
        "  'História'  : 75\n",
        "}\n",
        "\n",
        "#########################################\n",
        "#         Escreva o código aqui\n",
        "#########################################"
      ],
      "execution_count": null,
      "outputs": []
    },
    {
      "cell_type": "markdown",
      "metadata": {
        "id": "nyHuXnpFR73y"
      },
      "source": [
        "##### Resultado esperado:\n",
        "<pre>\n",
        "Matemática\n",
        "</pre>"
      ]
    },
    {
      "cell_type": "markdown",
      "metadata": {
        "id": "es6AMeELR-Fx"
      },
      "source": [
        "## **Alterar o salário de João para 8500 em um determinado dicionário Python**"
      ]
    },
    {
      "cell_type": "code",
      "metadata": {
        "id": "PiVTp6DkR8EL"
      },
      "source": [
        "dicionario_09 = {\n",
        "     'Empregado_1': {'Nome': 'Ana',   'Salário': 7500},\n",
        "     'Empregado_2': {'Nome': 'Maria', 'Salário': 8000},\n",
        "     'Empregado_3': {'Nome': 'João',  'Salário': 6500}\n",
        "}\n",
        "\n",
        "#########################################\n",
        "#         Escreva o código aqui\n",
        "#########################################"
      ],
      "execution_count": null,
      "outputs": []
    },
    {
      "cell_type": "markdown",
      "metadata": {
        "id": "WZ-I-GFgSCI1"
      },
      "source": [
        "##### Resultado esperado:\n",
        "<pre>\n",
        "'Empregado_1': {'Nome': 'Ana',   'Salário': 7500},\n",
        "'Empregado_2': {'Nome': 'Maria', 'Salário': 8000},\n",
        "'Empregado_3': {'Nome': 'João',  'Salário': 8500}\n",
        "</pre>"
      ]
    },
    {
      "cell_type": "code",
      "metadata": {
        "id": "4e-BEas9SC9z"
      },
      "source": [],
      "execution_count": null,
      "outputs": []
    }
  ]
}